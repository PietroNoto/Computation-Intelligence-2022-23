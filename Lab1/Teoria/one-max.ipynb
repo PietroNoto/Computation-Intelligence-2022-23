{
 "cells": [
  {
   "cell_type": "code",
   "execution_count": 3,
   "metadata": {},
   "outputs": [],
   "source": [
    "import random\n",
    "\n",
    "PROBLEM_SIZE = 10\n",
    "POPULATION_SIZE = 30\n",
    "OFFSPRING_SIZE = 20\n",
    "#meglio un approccio steady-state, così il numero di individui non aumenta!"
   ]
  },
  {
   "cell_type": "code",
   "execution_count": 4,
   "metadata": {},
   "outputs": [],
   "source": [
    "def onemax(genome):\n",
    "    return sum(genome)\n",
    "\n",
    "\n",
    "def select_parent(population, tournament_size = 2):\n",
    "    subset = random.choices(population, k = tournament_size)\n",
    "\n",
    "\n",
    "def crossover(p1, p2):\n",
    "    g1, g2 = p1[0], p1[0]\n",
    "    cut = random.randint(0, len(g1))\n",
    "    ng = g1[0:cut] + g2[cut:]\n",
    "\n",
    "\n",
    "def mutation(g):\n",
    "    point = random.randint(0, PROBLEM_SIZE)\n",
    "    return g[:point] + (g[point],) + g[point + 1 :]"
   ]
  },
  {
   "cell_type": "code",
   "execution_count": 6,
   "metadata": {},
   "outputs": [
    {
     "data": {
      "text/plain": [
       "[((1, 1, 1, 0, 1, 0, 0, 0, 0, 0), 4),\n",
       " ((0, 0, 0, 1, 1, 1, 1, 0, 1, 0), 5),\n",
       " ((0, 1, 0, 1, 1, 1, 0, 0, 1, 1), 6),\n",
       " ((0, 1, 1, 0, 1, 0, 1, 1, 1, 0), 6),\n",
       " ((0, 1, 1, 1, 0, 0, 1, 1, 1, 0), 6),\n",
       " ((1, 0, 1, 0, 1, 1, 1, 0, 0, 1), 6),\n",
       " ((1, 0, 0, 1, 1, 0, 1, 0, 0, 0), 4),\n",
       " ((0, 1, 1, 0, 1, 0, 0, 1, 1, 0), 5),\n",
       " ((1, 0, 0, 1, 0, 0, 0, 0, 0, 1), 3),\n",
       " ((1, 0, 0, 0, 1, 0, 0, 0, 0, 0), 2),\n",
       " ((1, 0, 0, 0, 0, 0, 1, 1, 1, 0), 4),\n",
       " ((0, 0, 0, 0, 1, 1, 0, 1, 0, 1), 4),\n",
       " ((0, 1, 0, 1, 1, 0, 0, 1, 1, 0), 5),\n",
       " ((1, 0, 0, 1, 1, 0, 0, 1, 1, 0), 5),\n",
       " ((1, 0, 0, 1, 1, 0, 0, 0, 1, 0), 4),\n",
       " ((1, 0, 1, 0, 1, 1, 0, 0, 1, 0), 5),\n",
       " ((0, 0, 0, 0, 0, 0, 1, 0, 1, 0), 2),\n",
       " ((1, 0, 1, 0, 1, 1, 1, 0, 0, 1), 6),\n",
       " ((0, 0, 0, 0, 0, 0, 1, 1, 0, 1), 3),\n",
       " ((1, 1, 0, 0, 1, 1, 0, 0, 1, 1), 6),\n",
       " ((1, 1, 1, 1, 1, 0, 1, 0, 0, 0), 6),\n",
       " ((0, 0, 1, 0, 0, 0, 1, 0, 0, 1), 3),\n",
       " ((0, 1, 1, 1, 1, 0, 0, 0, 0, 1), 5),\n",
       " ((1, 1, 1, 1, 1, 0, 1, 1, 1, 0), 8),\n",
       " ((0, 1, 0, 0, 1, 0, 0, 0, 0, 1), 3),\n",
       " ((0, 1, 0, 1, 1, 1, 0, 0, 0, 1), 5),\n",
       " ((1, 1, 1, 1, 0, 1, 1, 1, 0, 0), 7),\n",
       " ((0, 1, 1, 1, 0, 0, 0, 1, 1, 0), 5),\n",
       " ((0, 0, 0, 1, 1, 1, 1, 0, 1, 0), 5),\n",
       " ((0, 0, 1, 1, 0, 1, 0, 0, 0, 1), 4)]"
      ]
     },
     "execution_count": 6,
     "metadata": {},
     "output_type": "execute_result"
    }
   ],
   "source": [
    "population = list()\n",
    "\n",
    "for genome in [tuple([random.choice([1, 0]) for _ in range(PROBLEM_SIZE)]) for _ in range(POPULATION_SIZE)]:\n",
    "    population.append((genome, onemax(genome)))\n",
    "population"
   ]
  },
  {
   "cell_type": "code",
   "execution_count": null,
   "metadata": {},
   "outputs": [],
   "source": [
    "\n",
    "for g in range(1000):\n",
    "    for i in range(OFFSPRING_SIZE):\n",
    "        if random.random() < .3:\n",
    "            p = select_parent(population)\n",
    "            o = mutation(p[0])\n",
    "        else:\n",
    "            p1 = select_parent(population)\n",
    "            p2 = select_parent(population)\n",
    "            o = crossover(p1[0], p2[0])\n",
    "    population.append((o, onemax(o)))\n",
    "\n",
    "population = sorted(population, key = lambda i : i[1], reverse = True)[:POPULATION_SIZE]"
   ]
  },
  {
   "cell_type": "code",
   "execution_count": null,
   "metadata": {},
   "outputs": [],
   "source": []
  },
  {
   "cell_type": "code",
   "execution_count": null,
   "metadata": {},
   "outputs": [],
   "source": [
    "onemax([1, 1, 0, 0])"
   ]
  },
  {
   "cell_type": "code",
   "execution_count": null,
   "metadata": {},
   "outputs": [],
   "source": [
    "population = []"
   ]
  }
 ],
 "metadata": {
  "kernelspec": {
   "display_name": "Python 3.10.8 64-bit (microsoft store)",
   "language": "python",
   "name": "python3"
  },
  "language_info": {
   "codemirror_mode": {
    "name": "ipython",
    "version": 3
   },
   "file_extension": ".py",
   "mimetype": "text/x-python",
   "name": "python",
   "nbconvert_exporter": "python",
   "pygments_lexer": "ipython3",
   "version": "3.10.8"
  },
  "orig_nbformat": 4,
  "vscode": {
   "interpreter": {
    "hash": "d2da1bd3d7b0c21038c2b2938e75edf580fd1f0067631067a29a0e5011ce1535"
   }
  }
 },
 "nbformat": 4,
 "nbformat_minor": 2
}
